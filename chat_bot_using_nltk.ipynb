{
  "cells": [
    {
      "cell_type": "code",
      "execution_count": 1,
      "metadata": {
        "colab": {
          "base_uri": "https://localhost:8080/"
        },
        "id": "0zk8tjL9n1YF",
        "outputId": "5f091a49-5c1c-4182-a807-73e0a0e49f9a"
      },
      "outputs": [
        {
          "output_type": "stream",
          "name": "stdout",
          "text": [
            "Requirement already satisfied: nltk in /usr/local/lib/python3.10/dist-packages (3.8.1)\n",
            "Requirement already satisfied: click in /usr/local/lib/python3.10/dist-packages (from nltk) (8.1.6)\n",
            "Requirement already satisfied: joblib in /usr/local/lib/python3.10/dist-packages (from nltk) (1.3.1)\n",
            "Requirement already satisfied: regex>=2021.8.3 in /usr/local/lib/python3.10/dist-packages (from nltk) (2022.10.31)\n",
            "Requirement already satisfied: tqdm in /usr/local/lib/python3.10/dist-packages (from nltk) (4.65.0)\n"
          ]
        }
      ],
      "source": [
        "!pip install nltk"
      ]
    },
    {
      "cell_type": "code",
      "execution_count": 2,
      "metadata": {
        "id": "WtSmzhMgoPuw"
      },
      "outputs": [],
      "source": [
        "import nltk\n",
        "from nltk.chat.util import Chat, reflections"
      ]
    },
    {
      "cell_type": "code",
      "execution_count": 3,
      "metadata": {
        "colab": {
          "base_uri": "https://localhost:8080/"
        },
        "id": "q152cvgtZt_n",
        "outputId": "99ff26bc-25d8-4809-a2ed-ad3f657c1e54"
      },
      "outputs": [
        {
          "output_type": "stream",
          "name": "stderr",
          "text": [
            "[nltk_data] Downloading package punkt to /root/nltk_data...\n",
            "[nltk_data]   Unzipping tokenizers/punkt.zip.\n",
            "[nltk_data] Downloading package averaged_perceptron_tagger to\n",
            "[nltk_data]     /root/nltk_data...\n",
            "[nltk_data]   Unzipping taggers/averaged_perceptron_tagger.zip.\n",
            "[nltk_data] Downloading package wordnet to /root/nltk_data...\n"
          ]
        },
        {
          "output_type": "execute_result",
          "data": {
            "text/plain": [
              "True"
            ]
          },
          "metadata": {},
          "execution_count": 3
        }
      ],
      "source": [
        "nltk.download('punkt')\n",
        "nltk.download('averaged_perceptron_tagger')\n",
        "nltk.download('wordnet')"
      ]
    },
    {
      "cell_type": "code",
      "execution_count": 4,
      "metadata": {
        "id": "UiTmgqoKoeop"
      },
      "outputs": [],
      "source": [
        "reflections = {\n",
        "  \"i am\"       : \"you are\",\n",
        "  \"i was\"      : \"you were\",\n",
        "  \"i\"          : \"you\",\n",
        "  \"i'm\"        : \"you are\",\n",
        "  \"i'd\"        : \"you would\",\n",
        "  \"i've\"       : \"you have\",\n",
        "  \"i'll\"       : \"you will\",\n",
        "  \"my\"         : \"your\",\n",
        "  \"you are\"    : \"I am\",\n",
        "  \"you were\"   : \"I was\",\n",
        "  \"you've\"     : \"I have\",\n",
        "  \"you'll\"     : \"I will\",\n",
        "  \"your\"       : \"my\",\n",
        "  \"yours\"      : \"mine\",\n",
        "  \"you\"        : \"me\",\n",
        "  \"me\"         : \"you\"\n",
        "}"
      ]
    },
    {
      "cell_type": "code",
      "execution_count": 10,
      "metadata": {
        "id": "QxdI0lScogea"
      },
      "outputs": [],
      "source": [
        "pairs = [\n",
        "    [        r\"my name is Maryam \",        [\"Hello Maryam, How are you today ?\",]    ],\n",
        "    [        r\"hi|hey|hello\",        [\"Hello\", \"Hey there\",]    ],\n",
        "    [        r\"what is your name ?\",        [\"I am a bot. you can call me ChatBot!\",]    ],\n",
        "    [        r\"how are you ?\",        [\"I'm doing goodnHow about You ?\",]    ],\n",
        "    [        r\"sorry dear\",        [\"Its alright\",\"Its OK, never mind\",]    ],\n",
        "    [        r\"I am fine\",        [\"Great to hear that, How can I help you?\",]    ],\n",
        "    [        r\"How  age are you ?\",        [\"I'm a computer program dudenSeriously you are asking me this!\",]    ],\n",
        "    [        r\"what you  want ?\",        [\"Make me an offer I can't refuse\",]    ],\n",
        "    [        r\"how are you created ?\",        [\"Maryam created me using Python's NLTK library \",\"top secret ;)\",]    ],\n",
        "    [        r\"how is weather in cairo?\",        [\"Weather in cairo is awesome like always\",]    ],\n",
        "    [        r\"i work in Amazon .\",        [\" Amazon is an Amazing company, I have heard about it.\",]    ],\n",
        "    [        r\"what's your favorite (sports|game) ?\",        [\"I'm a very big fan of Football\",]    ],\n",
        "    [        r\"who is your sportsperson ?\",        [\"Messy\",\"Ronaldo\",\"Roony\"]    ],\n",
        "    [        r\"who is your (moviestar|actor)?\",        [\"Brad Pitt\"]    ],\n",
        "    [        r\"i am looking for online guides and courses to learn data science, can you suggest?\",        [\"Crazy_Tech has many great articles with each step explanation along with code, you can explore\"]    ],\n",
        "    [        r\"quit\",        [\"BBye take care. See you soon :) \",\"It was nice talking to you. See you soon :)\"]    ],\n",
        "\n",
        "\n",
        "]"
      ]
    },
    {
      "cell_type": "code",
      "execution_count": null,
      "metadata": {
        "colab": {
          "base_uri": "https://localhost:8080/"
        },
        "id": "HbGc3QYxokOC",
        "outputId": "0ec65b76-2aa0-46f7-8f48-b4c72804674b"
      },
      "outputs": [
        {
          "output_type": "stream",
          "name": "stdout",
          "text": [
            "Hi! I am a chatbot for your service\n",
            ">hi\n",
            "Hello\n",
            ">how are you ?\n",
            "I'm doing goodnHow about You ?\n",
            ">i'm fine\n",
            "None\n",
            ">i am fine\n",
            "Great to hear that, How can I help you?\n",
            ">how is weather in cairo?\n",
            "Weather in cairo is awesome like always\n"
          ]
        }
      ],
      "source": [
        "def chat():\n",
        "    print(\"Hi! I am a chatbot for your service\")\n",
        "    chat = Chat(pairs, reflections)\n",
        "    chat.converse()\n",
        "#initiate the conversation\n",
        "if __name__ == \"__main__\":\n",
        "    chat()"
      ]
    },
    {
      "cell_type": "code",
      "execution_count": null,
      "metadata": {
        "id": "q996SKzNo5jJ"
      },
      "outputs": [],
      "source": []
    }
  ],
  "metadata": {
    "colab": {
      "provenance": []
    },
    "kernelspec": {
      "display_name": "Python 3 (ipykernel)",
      "language": "python",
      "name": "python3"
    },
    "language_info": {
      "codemirror_mode": {
        "name": "ipython",
        "version": 3
      },
      "file_extension": ".py",
      "mimetype": "text/x-python",
      "name": "python",
      "nbconvert_exporter": "python",
      "pygments_lexer": "ipython3",
      "version": "3.9.17"
    }
  },
  "nbformat": 4,
  "nbformat_minor": 0
}